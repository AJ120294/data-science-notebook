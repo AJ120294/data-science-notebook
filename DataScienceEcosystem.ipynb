{
  "metadata": {
    "kernelspec": {
      "name": "python",
      "display_name": "Python (Pyodide)",
      "language": "python"
    },
    "language_info": {
      "codemirror_mode": {
        "name": "python",
        "version": 3
      },
      "file_extension": ".py",
      "mimetype": "text/x-python",
      "name": "python",
      "nbconvert_exporter": "python",
      "pygments_lexer": "ipython3",
      "version": "3.8"
    }
  },
  "nbformat_minor": 5,
  "nbformat": 4,
  "cells": [
    {
      "id": "d29bf023-4508-43b6-bee5-52c1280dd149",
      "cell_type": "markdown",
      "source": "# Data Science Tools and Ecosystem",
      "metadata": {}
    },
    {
      "id": "04d73533-22f5-465c-b3c4-664fd4d8bb16",
      "cell_type": "markdown",
      "source": "In this notebook, Data Science Tools and Ecosystem are summarized.",
      "metadata": {}
    },
    {
      "id": "ba110908-144f-45ce-a8ce-bfba75beccf2",
      "cell_type": "markdown",
      "source": "**Objectives:**\n\n- Understand basic arithmetic expressions and their operators.\n- Learn to convert minutes to hours using simple calculations.\n- Explore the use of comments to explain code functionality.\n- Familiarize with creating and executing code cells in Jupyter Notebook.\n- List popular programming languages, libraries, and tools used in Data Science.",
      "metadata": {}
    },
    {
      "id": "bb585677-87b6-47b2-b275-30cc32e6031b",
      "cell_type": "markdown",
      "source": "Some of the popular languages that Data Scientists use are:\n1. R\n2. SQL\n3. Python",
      "metadata": {}
    },
    {
      "id": "cc673b73-21ca-44b5-a56a-f65e2f26bd44",
      "cell_type": "markdown",
      "source": "Some of the commonly used libraries used by Data Scientists include:\n1. Pandas\n2. NumPy\n3. Matplotlib\n4. Scikit-learn\n5. PyTorch",
      "metadata": {}
    },
    {
      "id": "ed9152b8-0d57-4a0e-a1c6-c95b7b8a60b3",
      "cell_type": "markdown",
      "source": "Some open-source development environment tools used in data science include:\n| Data Science Tools       |\n|--------------------------|\n| Jupyter Notebook          |\n| RStudio                   |\n| Apache Zeppelin           |\n",
      "metadata": {}
    },
    {
      "id": "112eb03e-d258-43ea-a999-d864abb06208",
      "cell_type": "markdown",
      "source": "### Below are a few examples of evaluating arithmetic expressions in Python\n\n1. **Addition (`+`)**: Adds two numbers.\n2. **Subtraction (`-`)**: Subtracts one number from another.\n3. **Multiplication (`*`)**: Multiplies two numbers.\n4. **Division (`/`)**: Divides one number by another.\n5. **Floor Division (`//`)**: Divides and returns the largest integer less than or equal to the result.\n6. **Modulus (`%`)**: Returns the remainder of a division operation.\n7. **Exponentiation (`**`)**: Raises one number to the power of another.",
      "metadata": {}
    },
    {
      "id": "ae85c7c6-dd82-46f2-9f92-913ad1fe1418",
      "cell_type": "code",
      "source": "# This is a simple arithmetic expression to multiply then add integers.\nresult = (3 * 4) + 5\nresult",
      "metadata": {
        "trusted": true
      },
      "outputs": [
        {
          "execution_count": 1,
          "output_type": "execute_result",
          "data": {
            "text/plain": "17"
          },
          "metadata": {}
        }
      ],
      "execution_count": 1
    },
    {
      "id": "c76a9309-f0cd-4a2f-ad4c-0a27e38686b0",
      "cell_type": "code",
      "source": "# This will convert 200 minutes to hours by dividing by 60.\nminutes = 200\nhours = minutes / 60\nhours",
      "metadata": {
        "trusted": true
      },
      "outputs": [
        {
          "execution_count": 2,
          "output_type": "execute_result",
          "data": {
            "text/plain": "3.3333333333333335"
          },
          "metadata": {}
        }
      ],
      "execution_count": 2
    },
    {
      "id": "e4aa6c48-8ad5-4f6b-abc8-9f2e31cd15e8",
      "cell_type": "markdown",
      "source": "## Author\n\nAman Jain",
      "metadata": {}
    },
    {
      "id": "dba48999-475d-45c2-b803-09e61d4b1429",
      "cell_type": "code",
      "source": "",
      "metadata": {
        "trusted": true
      },
      "outputs": [],
      "execution_count": null
    }
  ]
}